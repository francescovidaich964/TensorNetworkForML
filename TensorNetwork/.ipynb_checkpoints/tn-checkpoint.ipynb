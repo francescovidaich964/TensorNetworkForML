{
 "cells": [
  {
   "cell_type": "code",
   "execution_count": 255,
   "metadata": {},
   "outputs": [],
   "source": [
    "import numpy as np\n",
    "import sys\n",
    "sys.path.insert(0,\"../\")\n",
    "import data_generator as gen\n",
    "import copy\n",
    "\n",
    "new = np.newaxis\n",
    "\n",
    "debug = False\n",
    "dprint = print if debug else lambda *args, **kwargs : None\n"
   ]
  },
  {
   "cell_type": "code",
   "execution_count": 479,
   "metadata": {},
   "outputs": [],
   "source": [
    "class Tensor():\n",
    "    \n",
    "    def __init__(self,elem=None, shape=None, axes_names=None, sigma=1e-3):\n",
    "        \n",
    "        # Numeric initialization\n",
    "        if (elem is None) and (shape is not None):\n",
    "            #self.elem = np.random.normal(scale=sigma, size=shape)\n",
    "            self.elem = np.random.random(size=shape)\n",
    "            fact = np.sqrt(self.elem.flatten().shape[0])\n",
    "            #print(\"fact\")\n",
    "            #print(fact)\n",
    "            self.elem /= fact/np.sqrt(2)\n",
    "            #self.elem /= np.abs(self.elem).sum()\n",
    "            #self.elem *= 6\n",
    "        elif elem is not None:\n",
    "            self.elem = elem\n",
    "        else:\n",
    "            raise Exception('You have to provide either the elements of the tensor or its shape')\n",
    "            \n",
    "        # Relevant attributes initialization\n",
    "        self.shape = self.elem.shape\n",
    "        self.rank = len(self.shape)\n",
    "        self.aggregations = {}\n",
    "\n",
    "        if axes_names is not None:\n",
    "            try:\n",
    "                if len(axes_names) == self.rank:\n",
    "                    self.history_axes_names = [np.array(axes_names)]\n",
    "                    self.axes_names = np.array(axes_names)\n",
    "                else:\n",
    "                    raise ValueError(\"sddsd\")\n",
    "            except TypeError:\n",
    "                print(\"=== Warning ===\\nThe object that describes the indexes names have at least to support the built-in len function.\"\\\n",
    "                          +\"\\naxes_names attribute has not been inizialized.\")\n",
    "                self.axes_names = None\n",
    "            except ValueError:\n",
    "                print(\"=== Warning ===\\nThe number of names should match the rank of the tensor.\"\\\n",
    "                          +\"\\naxes_names attribute has not been inizialized.\")\n",
    "                self.axes_names = None\n",
    "        else:\n",
    "            self.axes_names = None\n",
    "\n",
    "        return\n",
    "\n",
    "\n",
    "    def transpose(self, permutation):\n",
    "        indexes = self.ax_to_index(permutation)\n",
    "        self.elem = np.transpose(self.elem, indexes)\n",
    "        self.update_members(permutation)\n",
    "        return\n",
    "\n",
    "    def ax_to_index(self, axes):\n",
    "        # handle single and multiple indeces differently\n",
    "        if type(axes) == str:\n",
    "            return np.where(self.axes_names == axes)[0][0]\n",
    "        else:\n",
    "            return_axes = []\n",
    "            for ax in axes:\n",
    "                return_axes.append(np.where(self.axes_names == ax)[0][0])\n",
    "            return return_axes\n",
    "\n",
    "    \n",
    "    def aggregate(self, axes_names=None, new_ax_name=None):\n",
    "        \"\"\" \n",
    "        Utilization: ...\n",
    "        \"\"\"\n",
    "        # Sanity checks\n",
    "        if (axes_names is None) and (new_ax_name is not None):\n",
    "            axes_names = self.axes_names\n",
    "        elif new_ax_name is None:\n",
    "            raise ValueError(\"You have to provide the name of the new axes\")\n",
    "            \n",
    "        if self.axes_names is None:\n",
    "            raise ValueError(\"This function can be called only if the axes names are defined\")\n",
    "            \n",
    "        for name in axes_names:\n",
    "            assert name in self.axes_names, \"The \" + name + \" axes wasn't found in the tensor\"\n",
    "            \n",
    "        dprint(\"Aggregating...\")\n",
    "\n",
    "\n",
    "        # Convert the axes names to their index positions\n",
    "        indexes = self.ax_to_index(axes_names)\n",
    "        \n",
    "        # Store original shape of the aggregated indexes\n",
    "        axes_sizes = np.array(self.shape)[indexes]\n",
    "        self.aggregations[new_ax_name] = dict(zip(axes_names, axes_sizes))\n",
    "        \n",
    "        # Gather the non contracted indexes\n",
    "        all_indexes = set(range(len(self.elem.shape)))\n",
    "        other_indexes = list(all_indexes.difference(set(indexes)))\n",
    "        other_indexes.sort()\n",
    "\n",
    "        dprint(\"axes_numerical+other_axes: \", indexes+other_indexes)\n",
    "\n",
    "        # Perform actual reshaping\n",
    "        self.elem = np.transpose(self.elem, indexes+other_indexes)        \n",
    "        other_sizes = np.array(self.shape)[other_indexes].tolist()\n",
    "        self.elem = self.elem.reshape([-1]+other_sizes)\n",
    "        \n",
    "        # Update class members\n",
    "        self.update_members(np.concatenate([[new_ax_name], self.axes_names[other_indexes]]))\n",
    "        \n",
    "        return\n",
    "        \n",
    "\n",
    "    def disaggregate(self, ax):\n",
    "        \"\"\"\n",
    "        \n",
    "        \"\"\"\n",
    "        \n",
    "        assert ax in self.axes_names, \"The \" + ax + \" ax wasn't found in the tensor.\"\n",
    "        assert ax in self.aggregations.keys(), \"The \" + ax + \" do not represent an aggregated ax.\"\n",
    "        \n",
    "        original_dict = self.aggregations[ax]\n",
    "        original_names = list(original_dict.keys())\n",
    "        original_shape = list(original_dict.values())\n",
    "        \n",
    "        index = self.ax_to_index(ax)\n",
    "        \n",
    "        # transpose to have the aggregated index at the beginning\n",
    "        permutation = [index] + np.arange(index).tolist() + np.arange(index+1, self.rank).tolist()\n",
    "        self.elem = np.transpose(self.elem, permutation)\n",
    "        self.update_members(self.axes_names[permutation])\n",
    "        \n",
    "        # Disaggregate axis by reshaping the tensor\n",
    "        self.elem = self.elem.reshape(original_shape + list(self.shape[1:]))\n",
    "        self.update_members(np.concatenate([original_names, self.axes_names[1:]]))\n",
    "        \n",
    "        # Remove aggregated index from the memory\n",
    "        self.aggregations.pop(ax)\n",
    "        \n",
    "        return\n",
    "\n",
    "    def update_members(self, axes_names):\n",
    "        self.axes_names = np.array(axes_names)\n",
    "        self.shape = self.elem.shape\n",
    "        self.rank = len(self.shape)\n",
    "        return\n",
    "    \n",
    "    def check_names(self):\n",
    "        print(\"=\"*10+\"axes_names type\"+\"=\"*10)\n",
    "        print(type(self.axes_names))\n",
    "        \n",
    "    def __str__(self):\n",
    "        print(\"=\"*10+\" Tensor description \"+\"=\"*10)\n",
    "        print(\"Tensor shape: \", self.shape)\n",
    "        print(\"Tensor rank: \", self.rank)\n",
    "        print(\"Axes names: \", self.axes_names)\n",
    "        return \"\""
   ]
  },
  {
   "cell_type": "code",
   "execution_count": 480,
   "metadata": {},
   "outputs": [
    {
     "name": "stdout",
     "output_type": "stream",
     "text": [
      "Original tensor\n",
      "t.axes_names:  ['i' 'j' 'k']\n",
      "t.shape:  (2, 3, 2)\n",
      "t.elem:  [[[0.28594366 0.0778324 ]\n",
      "  [0.30659933 0.0847331 ]\n",
      "  [0.13723071 0.31311426]]\n",
      "\n",
      " [[0.05888709 0.3531357 ]\n",
      "  [0.18669282 0.28609468]\n",
      "  [0.30465577 0.35132249]]]\n",
      "\n",
      "After first aggregation:\n",
      "t.axes_names:  ['l' 'k']\n",
      "t.shape:  (6, 2)\n",
      "t.elem:  [[0.28594366 0.0778324 ]\n",
      " [0.05888709 0.3531357 ]\n",
      " [0.30659933 0.0847331 ]\n",
      " [0.18669282 0.28609468]\n",
      " [0.13723071 0.31311426]\n",
      " [0.30465577 0.35132249]]\n"
     ]
    },
    {
     "ename": "ValueError",
     "evalue": "You have to provide the name of the new axes",
     "output_type": "error",
     "traceback": [
      "\u001b[0;31m---------------------------------------------------------------------------\u001b[0m",
      "\u001b[0;31mValueError\u001b[0m                                Traceback (most recent call last)",
      "\u001b[0;32m<ipython-input-480-7428d73255b2>\u001b[0m in \u001b[0;36m<module>\u001b[0;34m\u001b[0m\n\u001b[1;32m      9\u001b[0m \u001b[0mprint\u001b[0m\u001b[0;34m(\u001b[0m\u001b[0;34m't.shape: '\u001b[0m\u001b[0;34m,\u001b[0m \u001b[0mt\u001b[0m\u001b[0;34m.\u001b[0m\u001b[0mshape\u001b[0m\u001b[0;34m)\u001b[0m\u001b[0;34m\u001b[0m\u001b[0;34m\u001b[0m\u001b[0m\n\u001b[1;32m     10\u001b[0m \u001b[0mprint\u001b[0m\u001b[0;34m(\u001b[0m\u001b[0;34m't.elem: '\u001b[0m\u001b[0;34m,\u001b[0m \u001b[0mt\u001b[0m\u001b[0;34m.\u001b[0m\u001b[0melem\u001b[0m\u001b[0;34m)\u001b[0m\u001b[0;34m\u001b[0m\u001b[0;34m\u001b[0m\u001b[0m\n\u001b[0;32m---> 11\u001b[0;31m \u001b[0mt\u001b[0m\u001b[0;34m.\u001b[0m\u001b[0maggregate\u001b[0m\u001b[0;34m(\u001b[0m\u001b[0maxes_names\u001b[0m\u001b[0;34m=\u001b[0m\u001b[0;34m[\u001b[0m\u001b[0;34m'l'\u001b[0m\u001b[0;34m,\u001b[0m\u001b[0;34m'k'\u001b[0m\u001b[0;34m]\u001b[0m\u001b[0;34m)\u001b[0m\u001b[0;34m\u001b[0m\u001b[0;34m\u001b[0m\u001b[0m\n\u001b[0m\u001b[1;32m     12\u001b[0m \u001b[0mprint\u001b[0m\u001b[0;34m(\u001b[0m\u001b[0;34m'\\nAfter second aggregation:'\u001b[0m\u001b[0;34m)\u001b[0m\u001b[0;34m\u001b[0m\u001b[0;34m\u001b[0m\u001b[0m\n\u001b[1;32m     13\u001b[0m \u001b[0mprint\u001b[0m\u001b[0;34m(\u001b[0m\u001b[0;34m't.axes_names: '\u001b[0m\u001b[0;34m,\u001b[0m \u001b[0mt\u001b[0m\u001b[0;34m.\u001b[0m\u001b[0maxes_names\u001b[0m\u001b[0;34m)\u001b[0m\u001b[0;34m\u001b[0m\u001b[0;34m\u001b[0m\u001b[0m\n",
      "\u001b[0;32m<ipython-input-479-9fef30acf2f7>\u001b[0m in \u001b[0;36maggregate\u001b[0;34m(self, axes_names, new_ax_name)\u001b[0m\n\u001b[1;32m     69\u001b[0m             \u001b[0maxes_names\u001b[0m \u001b[0;34m=\u001b[0m \u001b[0mself\u001b[0m\u001b[0;34m.\u001b[0m\u001b[0maxes_names\u001b[0m\u001b[0;34m\u001b[0m\u001b[0;34m\u001b[0m\u001b[0m\n\u001b[1;32m     70\u001b[0m         \u001b[0;32melif\u001b[0m \u001b[0mnew_ax_name\u001b[0m \u001b[0;32mis\u001b[0m \u001b[0;32mNone\u001b[0m\u001b[0;34m:\u001b[0m\u001b[0;34m\u001b[0m\u001b[0;34m\u001b[0m\u001b[0m\n\u001b[0;32m---> 71\u001b[0;31m             \u001b[0;32mraise\u001b[0m \u001b[0mValueError\u001b[0m\u001b[0;34m(\u001b[0m\u001b[0;34m\"You have to provide the name of the new axes\"\u001b[0m\u001b[0;34m)\u001b[0m\u001b[0;34m\u001b[0m\u001b[0;34m\u001b[0m\u001b[0m\n\u001b[0m\u001b[1;32m     72\u001b[0m \u001b[0;34m\u001b[0m\u001b[0m\n\u001b[1;32m     73\u001b[0m         \u001b[0;32mif\u001b[0m \u001b[0mself\u001b[0m\u001b[0;34m.\u001b[0m\u001b[0maxes_names\u001b[0m \u001b[0;32mis\u001b[0m \u001b[0;32mNone\u001b[0m\u001b[0;34m:\u001b[0m\u001b[0;34m\u001b[0m\u001b[0;34m\u001b[0m\u001b[0m\n",
      "\u001b[0;31mValueError\u001b[0m: You have to provide the name of the new axes"
     ]
    }
   ],
   "source": [
    "t = Tensor(shape=[2,3,2], axes_names=['i','j','k'])\n",
    "print(\"Original tensor\")\n",
    "print('t.axes_names: ', t.axes_names)\n",
    "print('t.shape: ', t.shape)\n",
    "print('t.elem: ', t.elem)\n",
    "t.aggregate(axes_names=['j','i'], new_ax_name='l')\n",
    "print('\\nAfter first aggregation:')\n",
    "print('t.axes_names: ', t.axes_names)\n",
    "print('t.shape: ', t.shape)\n",
    "print('t.elem: ', t.elem)\n",
    "t.aggregate(axes_names=['l','k'])\n",
    "print('\\nAfter second aggregation:')\n",
    "print('t.axes_names: ', t.axes_names)\n",
    "print('t.shape: ', t.shape)\n",
    "print('t.elem: ', t.elem)\n",
    "t.disaggregate()\n",
    "print('\\nAfter disaggregation:')\n",
    "print('t.axes_names: ', t.axes_names)\n",
    "print('t.shape: ', t.shape)\n",
    "print('t.elem: ', t.elem)"
   ]
  },
  {
   "cell_type": "code",
   "execution_count": 481,
   "metadata": {},
   "outputs": [],
   "source": [
    "def _contract_(T1, T2, contracted_axis1, contracted_axis2, common_axis1=[], common_axis2=[]):\n",
    "    \n",
    "    # Sanity checks\n",
    "    assert len(common_axis1) == len(common_axis2), \"number of common axes is different\"\n",
    "    \n",
    "    if type(contracted_axis1) != list:\n",
    "        assert T1.shape[contracted_axis1] == T2.shape[contracted_axis2], \"dimensions of contracted axes do not match\"\n",
    "        contracted_axis1 = [contracted_axis1]\n",
    "        contracted_axis2 = [contracted_axis2]\n",
    "    \n",
    "    for i in range(len(common_axis1)):\n",
    "        assert T1.shape[common_axis1[i]] == T2.shape[common_axis2[i]], \"dimensions of common axes do not match\"\n",
    "        \n",
    "    original_shape1 = np.array(T1.shape)\n",
    "    original_shape2 = np.array(T2.shape)\n",
    "        \n",
    "    def perm(contracted_axis, original_shape, common_axis):\n",
    "        \n",
    "        # astype is for handle the case in the first array is empty, in which the function cannot infere the type\n",
    "        last_axis = np.concatenate((common_axis, contracted_axis)).astype(\"int64\")         \n",
    "\n",
    "        remaining_axis = np.delete(np.arange(len(original_shape)), last_axis)\n",
    "        permutation = np.concatenate((remaining_axis, last_axis))\n",
    "        return permutation\n",
    "\n",
    "    permutation1 = perm(contracted_axis1, original_shape1, common_axis1)\n",
    "    permutation2 = perm(contracted_axis2, original_shape2, common_axis2)\n",
    "\n",
    "    shape1 = original_shape1[permutation1]\n",
    "    shape2 = original_shape2[permutation2]\n",
    "\n",
    "    #print(shape2)\n",
    "    \n",
    "    #inverse1 = get_inverse_permutation(permutation1)\n",
    "    # param for match the rank of the two shapes\n",
    "    unique1 = len(shape1)-len(common_axis1)-len(contracted_axis1)\n",
    "    unique2 = len(shape2)-len(common_axis1)-len(contracted_axis1)\n",
    "\n",
    "    new_shape1 = np.concatenate((shape1[:unique1],[1 for i in range(unique2)],shape1[unique1:])).astype(\"int64\")\n",
    "    new_shape2 = np.concatenate(([1 for i in range(unique1)],shape2)).astype(\"int64\")\n",
    "\n",
    "    #print(new_shape1)\n",
    "\n",
    "#    print(new_shape1)\n",
    "    #print(new_shape2)\n",
    "    T1.elem = np.transpose(T1.elem, permutation1)\n",
    "    T2.elem = np.transpose(T2.elem, permutation2)\n",
    "    \n",
    "    if T1.axes_names is not None:\n",
    "        #print(T1.axes_names)\n",
    "        T1.axes_names = T1.axes_names[permutation1]\n",
    "        T2.axes_names = T2.axes_names[permutation2]\n",
    "        T3_axes_names = np.concatenate([T1.axes_names[:unique1], T2.axes_names[:T2.rank-len(contracted_axis2)]])\n",
    "        #print(T3_axes_names)\n",
    "    else: \n",
    "        T3_axes_names = None\n",
    "\n",
    "    T3 = (T1.elem.reshape(new_shape1)*T2.elem.reshape(new_shape2))\n",
    "    if len(contracted_axis1) > 0:\n",
    "        T3 = T3.sum(axis=-1)\n",
    "        \n",
    "    T3 = Tensor(elem=T3, axes_names=T3_axes_names)\n",
    "    return T3\n",
    "\n",
    "def contract(T1, T2, contracted_axis1=[], contracted_axis2=[], common_axis1=[], common_axis2=[], contracted=None, common=None):\n",
    "        \n",
    "    if contracted is not None:\n",
    "        contracted_axis1 = contracted\n",
    "        contracted_axis2 = contracted\n",
    " \n",
    "    if common is not None:\n",
    "        common_axis1 = common\n",
    "        common_axis2 = common\n",
    "        \n",
    "    if type(common_axis1) == int:\n",
    "        common_axis1 = [common_axis1]\n",
    "    if type(common_axis2) == int:\n",
    "        common_axis2 = [common_axis2]\n",
    "\n",
    "    if type(contracted_axis1) == str:\n",
    "        contracted_axis1 = np.where(T1.axes_names == contracted_axis1)[0][0]\n",
    "\n",
    "    if type(contracted_axis2) == str:\n",
    "        contracted_axis2 = np.where(T2.axes_names == contracted_axis2)[0][0]\n",
    "    \n",
    "    temp = []\n",
    "    for key in common_axis1:\n",
    "        if type(key) == str:\n",
    "            temp.append(np.where(T1.axes_names == key)[0][0])\n",
    "        else:\n",
    "            temp.append(key)\n",
    "    common_axis1 = temp\n",
    "\n",
    "    temp = []\n",
    "    for key in common_axis2:\n",
    "        if type(key) == str:\n",
    "            temp.append(np.where(T2.axes_names == key)[0][0])\n",
    "        else:\n",
    "            temp.append(key)\n",
    "    common_axis2 = temp\n",
    "    \n",
    "    return _contract_(T1, T2, contracted_axis1, contracted_axis2, common_axis1, common_axis2)"
   ]
  },
  {
   "cell_type": "code",
   "execution_count": 482,
   "metadata": {},
   "outputs": [
    {
     "name": "stdout",
     "output_type": "stream",
     "text": [
      "========== Tensor description ==========\n",
      "Tensor shape:  (1, 2, 3, 4)\n",
      "Tensor rank:  4\n",
      "Axes names:  ['i' 'j' 'l' 'k']\n",
      "\n"
     ]
    }
   ],
   "source": [
    "x = np.random.random([1,2,3,4])\n",
    "y = np.random.random([3,4,5,6])\n",
    "T1 = Tensor(x, axes_names=['i','j','k','l'])\n",
    "T2 = Tensor(y, axes_names=['k','l','n','m'])\n",
    "T3 = contract(T1,T2, contracted='k', common='l')\n",
    "print(T1)"
   ]
  },
  {
   "cell_type": "code",
   "execution_count": 483,
   "metadata": {},
   "outputs": [
    {
     "name": "stdout",
     "output_type": "stream",
     "text": [
      "========== Tensor description ==========\n",
      "Tensor shape:  (1, 2, 3, 4)\n",
      "Tensor rank:  4\n",
      "Axes names:  ['i' 'j' 'l' 'k']\n",
      "\n"
     ]
    }
   ],
   "source": [
    "print(T1)"
   ]
  },
  {
   "cell_type": "code",
   "execution_count": 484,
   "metadata": {},
   "outputs": [
    {
     "name": "stdout",
     "output_type": "stream",
     "text": [
      "========== Tensor description ==========\n",
      "Tensor shape:  (1, 2, 3, 4)\n",
      "Tensor rank:  4\n",
      "Axes names:  ['i' 'j' 'l' 'k']\n",
      "\n"
     ]
    },
    {
     "ename": "AttributeError",
     "evalue": "'Tensor' object has no attribute 'aggregate2'",
     "output_type": "error",
     "traceback": [
      "\u001b[0;31m---------------------------------------------------------------------------\u001b[0m",
      "\u001b[0;31mAttributeError\u001b[0m                            Traceback (most recent call last)",
      "\u001b[0;32m<ipython-input-484-aafbf7a056e8>\u001b[0m in \u001b[0;36m<module>\u001b[0;34m\u001b[0m\n\u001b[1;32m      1\u001b[0m \u001b[0mprint\u001b[0m\u001b[0;34m(\u001b[0m\u001b[0mT1\u001b[0m\u001b[0;34m)\u001b[0m\u001b[0;34m\u001b[0m\u001b[0;34m\u001b[0m\u001b[0m\n\u001b[1;32m      2\u001b[0m \u001b[0;34m\u001b[0m\u001b[0m\n\u001b[0;32m----> 3\u001b[0;31m \u001b[0mT1\u001b[0m\u001b[0;34m.\u001b[0m\u001b[0maggregate2\u001b[0m\u001b[0;34m(\u001b[0m\u001b[0;34m[\u001b[0m\u001b[0;34m\"i\"\u001b[0m\u001b[0;34m,\u001b[0m\u001b[0;34m\"j\"\u001b[0m\u001b[0;34m]\u001b[0m\u001b[0;34m,\u001b[0m \u001b[0mnew_ax_name\u001b[0m\u001b[0;34m=\u001b[0m\u001b[0;34m\"bla\"\u001b[0m\u001b[0;34m)\u001b[0m\u001b[0;34m\u001b[0m\u001b[0;34m\u001b[0m\u001b[0m\n\u001b[0m\u001b[1;32m      4\u001b[0m \u001b[0mprint\u001b[0m\u001b[0;34m(\u001b[0m\u001b[0mT1\u001b[0m\u001b[0;34m)\u001b[0m\u001b[0;34m\u001b[0m\u001b[0;34m\u001b[0m\u001b[0m\n\u001b[1;32m      5\u001b[0m \u001b[0mprint\u001b[0m\u001b[0;34m(\u001b[0m\u001b[0mT1\u001b[0m\u001b[0;34m.\u001b[0m\u001b[0maggregations\u001b[0m\u001b[0;34m)\u001b[0m\u001b[0;34m\u001b[0m\u001b[0;34m\u001b[0m\u001b[0m\n",
      "\u001b[0;31mAttributeError\u001b[0m: 'Tensor' object has no attribute 'aggregate2'"
     ]
    }
   ],
   "source": [
    "print(T1)\n",
    "\n",
    "T1.aggregate2([\"i\",\"j\"], new_ax_name=\"bla\")\n",
    "print(T1)\n",
    "print(T1.aggregations)\n",
    "\n",
    "T1.aggregate2([\"bla\",\"k\"], new_ax_name=\"blabla\")\n",
    "print(T1)\n",
    "print(T1.aggregations)\n",
    "\n",
    "T1.disaggregate2('blabla')\n",
    "print(T1)\n",
    "print(T1.aggregations)\n",
    "\n",
    "T1.disaggregate2('bla')\n",
    "print(T1)\n",
    "print(T1.aggregations)\n",
    "\n",
    "ll = T1\n",
    "\n",
    "T1.transpose(['i','k','l','j'])\n",
    "\n",
    "print(T1)\n",
    "print(T1.aggregations)\n",
    "\n",
    "T1.transpose(['i','j','l','k'])\n",
    "print(np.sum(ll.elem-T1.elem))"
   ]
  },
  {
   "cell_type": "code",
   "execution_count": 485,
   "metadata": {},
   "outputs": [],
   "source": [
    "class Network():\n",
    "    \n",
    "    def __init__(self, N, M, D=2, L=10, sigma=1e-2):\n",
    "        \n",
    "        self.N = N\n",
    "        self.D = D\n",
    "        self.L = L\n",
    "        \n",
    "        self.As = []\n",
    "        \n",
    "        self.As.append(Tensor(shape=[L,M,D], axes_names=['l','right','d0'], sigma=sigma))\n",
    "        for i in range(1,N-1):\n",
    "            self.As.append(Tensor(shape=[M,M,D], axes_names=['left','right','d'+str(i)], sigma=sigma))\n",
    "        self.As.append(Tensor(shape=[M,D], axes_names=['left','d'+str(N-1)], sigma=sigma))\n",
    "        \n",
    "        self.l_pos = 0\n",
    "\n",
    "        \n",
    "    def forward(self, X, train=False):\n",
    "        \n",
    "        assert self.N == X.shape[1], \"The 1 dimension of the input data must be the flattened number of pixels\"\n",
    "\n",
    "        # X should be batch_size x 784 x 2\n",
    "        TX = []\n",
    "        for i in range(self.N):\n",
    "            TX.append(Tensor(elem=X[:,i,:], axes_names=['b','d'+str(i)]))\n",
    "                      \n",
    "        # This must be futher investigate, three ways:\n",
    "        #     * numpy vectorize\n",
    "        #     * list comprehension\n",
    "        #     * multithread\n",
    "                      \n",
    "        #A_TX = np.vectorize(contract)(TX, A, contracted='d'+str(i))\n",
    "        A_TX = [contract(self.As[i], TX[i], contracted='d'+str(i)) for i in range(self.N)]\n",
    "        print('check')\n",
    "        cum_contraction = []\n",
    "        cum_contraction.append(A_TX[-1])\n",
    "        for j in range(self.N-1):\n",
    "            tmp_cum = copy.deepcopy(cum_contraction[-1])\n",
    "            #print(\"tmp_cum\")\n",
    "            #print(tmp_cum)\n",
    "            #t = Tensor(elem=tmp_cum.elem, axes_names=tmp_cum.axes_names)\n",
    "            tmp_cum = contract(A_TX[-(j+2)], tmp_cum, 'right', 'left', common='b')\n",
    "            \n",
    "            cum_contraction.append(tmp_cum)\n",
    "            #print(\"tmp_cum\")\n",
    "            #print(tmp_cum)\n",
    "            #print(\"cum_contraction[-1]\")\n",
    "            #print(cum_contraction[-1])\n",
    "            #if j > 1:\n",
    "            #    print(\"cum_contraction[-2]\")\n",
    "            #    print(cum_contraction[-2])\n",
    "        #print(cum_contraction[3])\n",
    "        #print(\"cum_contraction[-1]\")\n",
    "        #print(cum_contraction[-1])\n",
    "\n",
    "        if train:\n",
    "            self.cum_contraction = cum_contraction\n",
    "            self.TX = TX\n",
    "\n",
    "\n",
    "        return cum_contraction[-1]\n",
    "\n",
    "    def sweep_step(self, f, y, lr):\n",
    "        l = self.l_pos\n",
    "        \n",
    "        B = contract(self.As[l], self.As[l+1], \"right\", \"left\")\n",
    "\n",
    "        f.elem = y-f.elem\n",
    "\n",
    "        phi = contract(self.TX[l], self.TX[l+1], common=\"b\")\n",
    "\n",
    "        if l>0:\n",
    "            pass\n",
    "        \n",
    "\n",
    "        if l<(self.N-2):\n",
    "            phi = contract(phi, self.cum_contraction[-(l+2)], common = \"b\")\n",
    "        \n",
    "        deltaB = contract(f, phi, contracted=\"b\")\n",
    "\n",
    "        B.transpose(['l', 'd0', 'd1', 'right'])\n",
    "        B.elem = B.elem + lr*deltaB.elem\n",
    "        \n",
    "        B.aggregate(axes_names=['d1','right','l'], new_ax_name='j')\n",
    "\n",
    "        B.transpose(['d0','j'])\n",
    "        print(B)\n",
    "        #np.linalg.svd(B.elem)\n",
    "        \n",
    "        #B.disaggregate()\n",
    "        \n",
    "        return B\n",
    "    \n",
    "    def sweep(self, X, y, lr):\n",
    "        #g = self.forward(np.ones(X.shape), train = True)\n",
    "        #print(\"=\"*100)\n",
    "        #for A in self.cum_contraction:\n",
    "        #    print(A.elem.sum())\n",
    "        #print(\"=\"*100)\n",
    "        #print(g.elem)\n",
    "        f = self.forward(X, train = True)\n",
    "        one_hot_y = np.zeros((y.size, self.L))\n",
    "        one_hot_y[np.arange(y.size),y] = 1\n",
    "        y = one_hot_y.T\n",
    "        B = self.sweep_step(f, y, lr)\n",
    "        return B\n",
    "    \n",
    "    def train():\n",
    "        return"
   ]
  },
  {
   "cell_type": "code",
   "execution_count": 492,
   "metadata": {},
   "outputs": [],
   "source": [
    "(data, label) = gen.create_dataset(5)\n",
    "x = data.reshape(5,25)\n",
    "\n",
    "def psi(x):\n",
    "    x = np.array((np.sin(np.pi*x/2),np.cos(np.pi*x/2)))\n",
    "    return np.transpose(x, [1,2,0])\n",
    "\n",
    "x = psi(x)"
   ]
  },
  {
   "cell_type": "code",
   "execution_count": 493,
   "metadata": {},
   "outputs": [
    {
     "name": "stdout",
     "output_type": "stream",
     "text": [
      "check\n",
      "========== Tensor description ==========\n",
      "Tensor shape:  (2, 400)\n",
      "Tensor rank:  2\n",
      "Axes names:  ['d0' 'j']\n",
      "\n"
     ]
    }
   ],
   "source": [
    "\n",
    "\n",
    "# Batch normalization\n",
    "#x = (x-x.mean(axis=0))/x.std(axis=0)\n",
    "\n",
    "net = Network(N=25, M=100, L=2)#, sigma=0.23)\n",
    "\n",
    "#out = net.forward(x)\n",
    "\n",
    "B = net.sweep(x, label, lr=0.1)\n"
   ]
  },
  {
   "cell_type": "code",
   "execution_count": 494,
   "metadata": {},
   "outputs": [
    {
     "data": {
      "text/plain": [
       "5e-48"
      ]
     },
     "execution_count": 494,
     "metadata": {},
     "output_type": "execute_result"
    }
   ],
   "source": [
    "5/(100)**(25-1) # b/(m)**(N-1)"
   ]
  },
  {
   "cell_type": "code",
   "execution_count": 495,
   "metadata": {},
   "outputs": [
    {
     "name": "stdout",
     "output_type": "stream",
     "text": [
      "[array(['l', 'd0', 'right', 'd1'], dtype='<U5')]\n"
     ]
    },
    {
     "ename": "AttributeError",
     "evalue": "'Tensor' object has no attribute 'permutation_history'",
     "output_type": "error",
     "traceback": [
      "\u001b[0;31m---------------------------------------------------------------------------\u001b[0m",
      "\u001b[0;31mAttributeError\u001b[0m                            Traceback (most recent call last)",
      "\u001b[0;32m<ipython-input-495-894056ce381a>\u001b[0m in \u001b[0;36m<module>\u001b[0;34m\u001b[0m\n\u001b[1;32m      1\u001b[0m \u001b[0mprint\u001b[0m\u001b[0;34m(\u001b[0m\u001b[0mB\u001b[0m\u001b[0;34m.\u001b[0m\u001b[0mhistory_axes_names\u001b[0m\u001b[0;34m)\u001b[0m\u001b[0;34m\u001b[0m\u001b[0;34m\u001b[0m\u001b[0m\n\u001b[0;32m----> 2\u001b[0;31m \u001b[0mprint\u001b[0m\u001b[0;34m(\u001b[0m\u001b[0mB\u001b[0m\u001b[0;34m.\u001b[0m\u001b[0mpermutation_history\u001b[0m\u001b[0;34m)\u001b[0m\u001b[0;34m\u001b[0m\u001b[0;34m\u001b[0m\u001b[0m\n\u001b[0m\u001b[1;32m      3\u001b[0m \u001b[0mprint\u001b[0m\u001b[0;34m(\u001b[0m\u001b[0mB\u001b[0m\u001b[0;34m.\u001b[0m\u001b[0mtransposed_shape\u001b[0m\u001b[0;34m)\u001b[0m\u001b[0;34m\u001b[0m\u001b[0;34m\u001b[0m\u001b[0m\n",
      "\u001b[0;31mAttributeError\u001b[0m: 'Tensor' object has no attribute 'permutation_history'"
     ]
    }
   ],
   "source": [
    "print(B.history_axes_names)\n",
    "print(B.permutation_history)\n",
    "print(B.transposed_shape)"
   ]
  },
  {
   "cell_type": "code",
   "execution_count": 496,
   "metadata": {},
   "outputs": [
    {
     "name": "stdout",
     "output_type": "stream",
     "text": [
      "{'j': {'d1': 2, 'right': 100, 'l': 2}}\n",
      "(2, 2)\n",
      "(400, 400)\n",
      "(2, 400)\n",
      "(2, 400)\n",
      "permutation\n",
      "[1, 0]\n",
      "========== Tensor description ==========\n",
      "Tensor shape:  (2, 100, 2, 2)\n",
      "Tensor rank:  4\n",
      "Axes names:  ['d1' 'right' 'l' 'left']\n",
      "\n"
     ]
    }
   ],
   "source": [
    "def tensor_svd(T):\n",
    "    \n",
    "    if type(T) != Tensor:\n",
    "        raise TypeError(\"This function only support object from the class Tensor\")\n",
    "\n",
    "    if len(T.shape) != 2:\n",
    "        raise ValueError(\"This function only support a 2D tensors\")\n",
    "\n",
    "    print(T.aggregations)\n",
    "    SVD = np.linalg.svd(T.elem)\n",
    "    U = SVD[0]\n",
    "    S = SVD[1]\n",
    "    Vh = SVD[2]\n",
    "\n",
    "    print(U.shape)\n",
    "    print(Vh.shape)\n",
    "    # cut\n",
    "    Vh = Vh[:2,:]\n",
    "    \n",
    "    print(Vh.shape)\n",
    "    SVh = Vh*S[:,new]\n",
    "    print(SVh.shape)\n",
    "    TSVh = Tensor(elem=SVh, axes_names=['left','j'])\n",
    "    TSVh.aggregations = T.aggregations\n",
    "    #TSVh.transpose(['j','d0'])\n",
    "    TSVh.disaggregate('j')\n",
    "    \n",
    "    print(TSVh)\n",
    "    \n",
    "    return \n",
    "\n",
    "tensor_svd(B)\n"
   ]
  },
  {
   "cell_type": "code",
   "execution_count": 338,
   "metadata": {},
   "outputs": [
    {
     "ename": "NameError",
     "evalue": "name 'S' is not defined",
     "output_type": "error",
     "traceback": [
      "\u001b[0;31m---------------------------------------------------------------------------\u001b[0m",
      "\u001b[0;31mNameError\u001b[0m                                 Traceback (most recent call last)",
      "\u001b[0;32m<ipython-input-338-3e80c74c6882>\u001b[0m in \u001b[0;36m<module>\u001b[0;34m\u001b[0m\n\u001b[0;32m----> 1\u001b[0;31m \u001b[0mnp\u001b[0m\u001b[0;34m.\u001b[0m\u001b[0mcumsum\u001b[0m\u001b[0;34m(\u001b[0m\u001b[0mS\u001b[0m\u001b[0;34m)\u001b[0m\u001b[0;34m/\u001b[0m\u001b[0mS\u001b[0m\u001b[0;34m.\u001b[0m\u001b[0msum\u001b[0m\u001b[0;34m(\u001b[0m\u001b[0;34m)\u001b[0m\u001b[0;34m\u001b[0m\u001b[0;34m\u001b[0m\u001b[0m\n\u001b[0m",
      "\u001b[0;31mNameError\u001b[0m: name 'S' is not defined"
     ]
    }
   ],
   "source": [
    "np.cumsum(S)/S.sum()\n"
   ]
  },
  {
   "cell_type": "code",
   "execution_count": 83,
   "metadata": {},
   "outputs": [
    {
     "ename": "NameError",
     "evalue": "name 'Vh' is not defined",
     "output_type": "error",
     "traceback": [
      "\u001b[0;31m---------------------------------------------------------------------------\u001b[0m",
      "\u001b[0;31mNameError\u001b[0m                                 Traceback (most recent call last)",
      "\u001b[0;32m<ipython-input-83-cda5e0eb283a>\u001b[0m in \u001b[0;36m<module>\u001b[0;34m\u001b[0m\n\u001b[0;32m----> 1\u001b[0;31m \u001b[0mVh\u001b[0m\u001b[0;34m*\u001b[0m\u001b[0mS\u001b[0m\u001b[0;34m[\u001b[0m\u001b[0;34m:\u001b[0m\u001b[0;34m,\u001b[0m\u001b[0mnp\u001b[0m\u001b[0;34m.\u001b[0m\u001b[0mnewaxis\u001b[0m\u001b[0;34m]\u001b[0m\u001b[0;34m\u001b[0m\u001b[0;34m\u001b[0m\u001b[0m\n\u001b[0m",
      "\u001b[0;31mNameError\u001b[0m: name 'Vh' is not defined"
     ]
    }
   ],
   "source": [
    "Vh*S[:,np.newaxis]"
   ]
  },
  {
   "cell_type": "code",
   "execution_count": null,
   "metadata": {},
   "outputs": [],
   "source": []
  },
  {
   "cell_type": "code",
   "execution_count": 65,
   "metadata": {},
   "outputs": [],
   "source": [
    "l = ['i','j','k']\n",
    "m = [0,2,1]\n",
    "p = {}\n",
    "for i in range(len(l)):\n",
    "    p[l[i]] = m[i]\n",
    "    "
   ]
  },
  {
   "cell_type": "code",
   "execution_count": 69,
   "metadata": {},
   "outputs": [],
   "source": [
    "kh = dict(zip(l, m))\n"
   ]
  },
  {
   "cell_type": "code",
   "execution_count": 110,
   "metadata": {},
   "outputs": [
    {
     "data": {
      "text/plain": [
       "dict_values([0, 2, 1])"
      ]
     },
     "execution_count": 110,
     "metadata": {},
     "output_type": "execute_result"
    }
   ],
   "source": [
    "np.prod(kh.values())"
   ]
  },
  {
   "cell_type": "code",
   "execution_count": 111,
   "metadata": {},
   "outputs": [
    {
     "data": {
      "text/plain": [
       "6"
      ]
     },
     "execution_count": 111,
     "metadata": {},
     "output_type": "execute_result"
    }
   ],
   "source": [
    "np.prod([2,3])"
   ]
  },
  {
   "cell_type": "code",
   "execution_count": 178,
   "metadata": {},
   "outputs": [
    {
     "ename": "TypeError",
     "evalue": "list indices must be integers or slices, not list",
     "output_type": "error",
     "traceback": [
      "\u001b[0;31m---------------------------------------------------------------------------\u001b[0m",
      "\u001b[0;31mTypeError\u001b[0m                                 Traceback (most recent call last)",
      "\u001b[0;32m<ipython-input-178-90c3a7385d0a>\u001b[0m in \u001b[0;36m<module>\u001b[0;34m\u001b[0m\n\u001b[1;32m      1\u001b[0m \u001b[0ml\u001b[0m \u001b[0;34m=\u001b[0m \u001b[0;34m[\u001b[0m\u001b[0;36m1\u001b[0m\u001b[0;34m,\u001b[0m\u001b[0;36m2\u001b[0m\u001b[0;34m,\u001b[0m\u001b[0;36m3\u001b[0m\u001b[0;34m,\u001b[0m\u001b[0;36m4\u001b[0m\u001b[0;34m]\u001b[0m\u001b[0;34m\u001b[0m\u001b[0;34m\u001b[0m\u001b[0m\n\u001b[0;32m----> 2\u001b[0;31m \u001b[0ml\u001b[0m\u001b[0;34m[\u001b[0m\u001b[0;34m[\u001b[0m\u001b[0;36m0\u001b[0m\u001b[0;34m,\u001b[0m\u001b[0;36m1\u001b[0m\u001b[0;34m]\u001b[0m\u001b[0;34m]\u001b[0m\u001b[0;34m\u001b[0m\u001b[0;34m\u001b[0m\u001b[0m\n\u001b[0m",
      "\u001b[0;31mTypeError\u001b[0m: list indices must be integers or slices, not list"
     ]
    }
   ],
   "source": [
    "l = [1,2,3,4]\n",
    "l[[0,1]]"
   ]
  },
  {
   "cell_type": "code",
   "execution_count": null,
   "metadata": {},
   "outputs": [],
   "source": []
  },
  {
   "cell_type": "code",
   "execution_count": 322,
   "metadata": {},
   "outputs": [],
   "source": [
    "x = {'l':2}\n",
    "if 'm' in x.keys():\n",
    "    print(\"ok\")"
   ]
  },
  {
   "cell_type": "code",
   "execution_count": 324,
   "metadata": {},
   "outputs": [
    {
     "data": {
      "text/plain": [
       "2"
      ]
     },
     "execution_count": 324,
     "metadata": {},
     "output_type": "execute_result"
    }
   ],
   "source": [
    "x.pop('l')"
   ]
  },
  {
   "cell_type": "code",
   "execution_count": 325,
   "metadata": {},
   "outputs": [
    {
     "data": {
      "text/plain": [
       "{}"
      ]
     },
     "execution_count": 325,
     "metadata": {},
     "output_type": "execute_result"
    }
   ],
   "source": [
    "x"
   ]
  },
  {
   "cell_type": "code",
   "execution_count": null,
   "metadata": {},
   "outputs": [],
   "source": []
  },
  {
   "cell_type": "code",
   "execution_count": null,
   "metadata": {},
   "outputs": [],
   "source": []
  },
  {
   "cell_type": "code",
   "execution_count": null,
   "metadata": {},
   "outputs": [],
   "source": []
  },
  {
   "cell_type": "code",
   "execution_count": null,
   "metadata": {},
   "outputs": [],
   "source": []
  },
  {
   "cell_type": "code",
   "execution_count": null,
   "metadata": {},
   "outputs": [],
   "source": []
  },
  {
   "cell_type": "code",
   "execution_count": null,
   "metadata": {},
   "outputs": [],
   "source": []
  },
  {
   "cell_type": "code",
   "execution_count": null,
   "metadata": {},
   "outputs": [],
   "source": []
  },
  {
   "cell_type": "code",
   "execution_count": null,
   "metadata": {},
   "outputs": [],
   "source": []
  },
  {
   "cell_type": "code",
   "execution_count": null,
   "metadata": {},
   "outputs": [],
   "source": []
  },
  {
   "cell_type": "code",
   "execution_count": null,
   "metadata": {},
   "outputs": [],
   "source": []
  },
  {
   "cell_type": "code",
   "execution_count": null,
   "metadata": {},
   "outputs": [],
   "source": []
  },
  {
   "cell_type": "code",
   "execution_count": null,
   "metadata": {},
   "outputs": [],
   "source": []
  },
  {
   "cell_type": "code",
   "execution_count": null,
   "metadata": {},
   "outputs": [],
   "source": []
  },
  {
   "cell_type": "code",
   "execution_count": null,
   "metadata": {},
   "outputs": [],
   "source": []
  },
  {
   "cell_type": "code",
   "execution_count": null,
   "metadata": {},
   "outputs": [],
   "source": []
  },
  {
   "cell_type": "code",
   "execution_count": null,
   "metadata": {},
   "outputs": [],
   "source": []
  },
  {
   "cell_type": "code",
   "execution_count": null,
   "metadata": {},
   "outputs": [],
   "source": []
  },
  {
   "cell_type": "code",
   "execution_count": null,
   "metadata": {},
   "outputs": [],
   "source": []
  },
  {
   "cell_type": "code",
   "execution_count": null,
   "metadata": {},
   "outputs": [],
   "source": []
  },
  {
   "cell_type": "code",
   "execution_count": null,
   "metadata": {},
   "outputs": [],
   "source": []
  },
  {
   "cell_type": "code",
   "execution_count": null,
   "metadata": {},
   "outputs": [],
   "source": []
  },
  {
   "cell_type": "code",
   "execution_count": null,
   "metadata": {},
   "outputs": [],
   "source": []
  },
  {
   "cell_type": "code",
   "execution_count": null,
   "metadata": {},
   "outputs": [],
   "source": []
  },
  {
   "cell_type": "code",
   "execution_count": null,
   "metadata": {},
   "outputs": [],
   "source": [
    "BACKUP\n",
    "\n",
    "            for key in kwargs.keys():\n",
    "                if type(kwargs[key][0]) == str:\n",
    "                    axes_numerical = []\n",
    "                    for index in kwargs[key]:\n",
    "                        if self.axes_names is not None:\n",
    "                            idx = np.where(self.axes_names == index)[0][0]\n",
    "                            axes_numerical.append(idx)\n",
    "                        else:\n",
    "                            raise ValueError(\"=== Error ===\\nThe function was called in the index mode but the tensor wasn't initializated with index names. \")\n",
    "                    \n",
    "            all_axes = set(range(self.rank))\n",
    "            #!!!!!!!!!!!!!!!! check without list AND sort\n",
    "            other_axes = list(all_axes.difference(set(axes_numerical)))\n",
    "            other_axes.sort()\n",
    "            \n",
    "            final_list = []\n",
    "            for indexes in list_indexes:\n",
    "                final_list += indexes\n",
    "            final_list += other_axes\n",
    "                    \n",
    "            self.elem = np.transpose(self.elem, axes_numerical+other_axes)\n",
    "                print(axes_numerical)\n",
    "                else:\n",
    "                    print()\n",
    "            print()\n"
   ]
  },
  {
   "cell_type": "code",
   "execution_count": 79,
   "metadata": {},
   "outputs": [
    {
     "name": "stdout",
     "output_type": "stream",
     "text": [
      "ciao\n"
     ]
    }
   ],
   "source": [
    "    \"\"\"def aggregate(self, axes_numerical=None, axes_names=None, new_ax_name=None):\n",
    "            \"\"\" \n",
    "            #Utilization: ...\n",
    "            \"\"\"\n",
    "            dprint = print if debug else lambda *args, **kwargs : None\n",
    "            dprint(\"Aggregating...\")\n",
    "\n",
    "            if (axes_names is None) and (axes_numerical is None):\n",
    "                self.elem = self.elem.reshape(-1)\n",
    "                self.shape = self.elem.shape\n",
    "                self.history_axes_names.append(np.array([new_ax_name]))\n",
    "                self.axes_names = np.array([new_ax_name])\n",
    "                return\n",
    "\n",
    "            if axes_names is not None:\n",
    "                if axes_numerical is None:\n",
    "                    axes_numerical = []\n",
    "                    for name in axes_names:\n",
    "                        if type(name) == str:\n",
    "                            if self.axes_names is not None:\n",
    "                                dprint('name: ', name)\n",
    "                                dprint('self.axes_names: ', self.axes_names)\n",
    "                                dprint(np.where(self.axes_names == name))\n",
    "                                idx = np.where(self.axes_names == name)[0][0]\n",
    "                                axes_numerical.append(idx)\n",
    "                            else:\n",
    "                                raise ValueError(\"=== Error ===\\nThe function was called in the index mode but the tensor wasn't initializated with index names. \")\n",
    "\n",
    "                    #self.axes_names = np.array([new_ax_name] + list(set(self.axes_names).difference(set(axes_names))))\n",
    "                    #self.history_axes_names.append(self.axes_names) \n",
    "                else:\n",
    "                    raise Exeption(\"=== Error ===\\nProvide just one input between axes_numerical and axes_names.\")\n",
    "\n",
    "\n",
    "            if (new_ax_name is not None) and (self.axes_names is not None):\n",
    "\n",
    "                # test this case with new_ax_names and axes_numerical and not axes_names\n",
    "                if axes_names is None:\n",
    "                    axes_names = self.axes_names[axes_numerical]\n",
    "\n",
    "                self.axes_names = np.array([new_ax_name] + list(set(self.axes_names).difference(set(axes_names))))\n",
    "                self.history_axes_names.append(self.axes_names) \n",
    "\n",
    "            all_axes = set(range(len(self.elem.shape)))\n",
    "            #!!!!!!!!!!!!!!!! check without list AND sort\n",
    "            other_axes = list(all_axes.difference(set(axes_numerical)))\n",
    "            other_axes.sort()\n",
    "\n",
    "            dprint(\"axes_numerical+other_axes: \", axes_numerical+other_axes)\n",
    "            self.elem = np.transpose(self.elem, axes_numerical+other_axes)\n",
    "            self.transposed_shape.append(self.elem.shape)\n",
    "\n",
    "            self.permutation_history.append(axes_numerical+other_axes)\n",
    "            self.elem = self.elem.reshape([-1]+list(self.transposed_shape[-1][len(axes_numerical):]))\n",
    "            self.shape = self.elem.shape\n",
    "\n",
    "            return\n",
    "\n",
    "        def disaggregate(self, index):\n",
    "            \"\"\"\n",
    "\n",
    "            \"\"\"\n",
    "\n",
    "            try:\n",
    "                if len(self.permutation_history) > 0:\n",
    "                    while len(self.permutation_history) > 0:\n",
    "                        # get and invert last permutation of shape\n",
    "                        last_permutation = list(self.permutation_history[-1])\n",
    "                        last_rank = len(last_permutation)\n",
    "                        permutation_matrix = np.zeros([last_rank,last_rank])\n",
    "                        permutation_matrix[range(last_rank),last_permutation] = 1\n",
    "                        # disaggregate using last transposed shape\n",
    "                        self.elem = self.elem.reshape(self.transposed_shape[-1])\n",
    "                        # IDEA: original_shape = np.dot(permutation_matrix.T, self.transposed_shape)\n",
    "                        inverse_permutation = np.where(permutation_matrix.T == 1)[1]\n",
    "                        self.elem = np.transpose(self.elem, inverse_permutation)\n",
    "                        # remove history of last aggregation\n",
    "                        self.permutation_history.pop()\n",
    "                        self.transposed_shape.pop()\n",
    "\n",
    "                        if len(self.history_axes_names) > 1:\n",
    "                            self.history_axes_names.pop()\n",
    "                            self.axes_names = self.history_axes_names[-1]\n",
    "\n",
    "                        self.shape = self.elem.shape\n",
    "                    return\n",
    "            except:\n",
    "                print(\"Cannot disaggregate tensor if it was not aggregated in the first place.\")\n",
    "                return\"\"\"\n",
    "    "
   ]
  },
  {
   "cell_type": "code",
   "execution_count": null,
   "metadata": {},
   "outputs": [],
   "source": [
    "def f(x,y):\n",
    "    return\n",
    "\n",
    "f(*par)"
   ]
  }
 ],
 "metadata": {
  "kernelspec": {
   "display_name": "Python 3",
   "language": "python",
   "name": "python3"
  },
  "language_info": {
   "codemirror_mode": {
    "name": "ipython",
    "version": 3
   },
   "file_extension": ".py",
   "mimetype": "text/x-python",
   "name": "python",
   "nbconvert_exporter": "python",
   "pygments_lexer": "ipython3",
   "version": "3.7.6"
  },
  "varInspector": {
   "cols": {
    "lenName": 16,
    "lenType": 16,
    "lenVar": 40
   },
   "kernels_config": {
    "python": {
     "delete_cmd_postfix": "",
     "delete_cmd_prefix": "del ",
     "library": "var_list.py",
     "varRefreshCmd": "print(var_dic_list())"
    },
    "r": {
     "delete_cmd_postfix": ") ",
     "delete_cmd_prefix": "rm(",
     "library": "var_list.r",
     "varRefreshCmd": "cat(var_dic_list()) "
    }
   },
   "position": {
    "height": "366.85px",
    "left": "1027px",
    "right": "20px",
    "top": "130px",
    "width": "357.4px"
   },
   "types_to_exclude": [
    "module",
    "function",
    "builtin_function_or_method",
    "instance",
    "_Feature"
   ],
   "window_display": false
  }
 },
 "nbformat": 4,
 "nbformat_minor": 4
}
